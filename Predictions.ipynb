{
 "cells": [
  {
   "cell_type": "code",
   "execution_count": 1,
   "metadata": {},
   "outputs": [
    {
     "name": "stdout",
     "output_type": "stream",
     "text": [
      "Defaulting to user installation because normal site-packages is not writeable\n",
      "Requirement already satisfied: opencv-python in ./.local/lib/python3.7/site-packages (4.5.5.64)\n",
      "Requirement already satisfied: numpy>=1.14.5; python_version >= \"3.7\" in ./.local/lib/python3.7/site-packages (from opencv-python) (1.21.5)\n",
      "\u001b[33mWARNING: You are using pip version 20.1.1; however, version 22.0.4 is available.\n",
      "You should consider upgrading via the '/central/software/python/3.7.0/bin/python3.7 -m pip install --upgrade pip' command.\u001b[0m\n",
      "Defaulting to user installation because normal site-packages is not writeable\n",
      "Requirement already satisfied: tensorflow in ./.local/lib/python3.7/site-packages (2.8.0)\n",
      "Requirement already satisfied: protobuf>=3.9.2 in ./.local/lib/python3.7/site-packages (from tensorflow) (3.20.0)\n",
      "Requirement already satisfied: keras<2.9,>=2.8.0rc0 in ./.local/lib/python3.7/site-packages (from tensorflow) (2.8.0)\n",
      "Requirement already satisfied: opt-einsum>=2.3.2 in ./.local/lib/python3.7/site-packages (from tensorflow) (3.3.0)\n",
      "Requirement already satisfied: setuptools in /central/software/python/3.7.0/lib/python3.7/site-packages (from tensorflow) (39.0.1)\n",
      "Requirement already satisfied: flatbuffers>=1.12 in ./.local/lib/python3.7/site-packages (from tensorflow) (2.0)\n",
      "Requirement already satisfied: tensorboard<2.9,>=2.8 in ./.local/lib/python3.7/site-packages (from tensorflow) (2.8.0)\n",
      "Requirement already satisfied: six>=1.12.0 in ./.local/lib/python3.7/site-packages (from tensorflow) (1.16.0)\n",
      "Requirement already satisfied: tensorflow-io-gcs-filesystem>=0.23.1 in ./.local/lib/python3.7/site-packages (from tensorflow) (0.24.0)\n",
      "Requirement already satisfied: google-pasta>=0.1.1 in ./.local/lib/python3.7/site-packages (from tensorflow) (0.2.0)\n",
      "Requirement already satisfied: astunparse>=1.6.0 in ./.local/lib/python3.7/site-packages (from tensorflow) (1.6.3)\n",
      "Requirement already satisfied: typing-extensions>=3.6.6 in ./.local/lib/python3.7/site-packages (from tensorflow) (4.1.1)\n",
      "Requirement already satisfied: absl-py>=0.4.0 in ./.local/lib/python3.7/site-packages (from tensorflow) (1.0.0)\n",
      "Requirement already satisfied: tf-estimator-nightly==2.8.0.dev2021122109 in ./.local/lib/python3.7/site-packages (from tensorflow) (2.8.0.dev2021122109)\n",
      "Requirement already satisfied: termcolor>=1.1.0 in ./.local/lib/python3.7/site-packages (from tensorflow) (1.1.0)\n",
      "Requirement already satisfied: h5py>=2.9.0 in ./.local/lib/python3.7/site-packages (from tensorflow) (3.6.0)\n",
      "Requirement already satisfied: wrapt>=1.11.0 in ./.local/lib/python3.7/site-packages (from tensorflow) (1.14.0)\n",
      "Requirement already satisfied: gast>=0.2.1 in ./.local/lib/python3.7/site-packages (from tensorflow) (0.5.3)\n",
      "Requirement already satisfied: numpy>=1.20 in ./.local/lib/python3.7/site-packages (from tensorflow) (1.21.5)\n",
      "Requirement already satisfied: grpcio<2.0,>=1.24.3 in ./.local/lib/python3.7/site-packages (from tensorflow) (1.44.0)\n",
      "Requirement already satisfied: keras-preprocessing>=1.1.1 in ./.local/lib/python3.7/site-packages (from tensorflow) (1.1.2)\n",
      "Requirement already satisfied: libclang>=9.0.1 in ./.local/lib/python3.7/site-packages (from tensorflow) (13.0.0)\n",
      "Requirement already satisfied: google-auth-oauthlib<0.5,>=0.4.1 in ./.local/lib/python3.7/site-packages (from tensorboard<2.9,>=2.8->tensorflow) (0.4.6)\n",
      "Requirement already satisfied: requests<3,>=2.21.0 in /central/software/python/3.7.0/lib/python3.7/site-packages (from tensorboard<2.9,>=2.8->tensorflow) (2.21.0)\n",
      "Requirement already satisfied: google-auth<3,>=1.6.3 in ./.local/lib/python3.7/site-packages (from tensorboard<2.9,>=2.8->tensorflow) (2.6.3)\n",
      "Requirement already satisfied: markdown>=2.6.8 in ./.local/lib/python3.7/site-packages (from tensorboard<2.9,>=2.8->tensorflow) (3.3.6)\n",
      "Requirement already satisfied: werkzeug>=0.11.15 in ./.local/lib/python3.7/site-packages (from tensorboard<2.9,>=2.8->tensorflow) (2.1.1)\n",
      "Requirement already satisfied: tensorboard-data-server<0.7.0,>=0.6.0 in ./.local/lib/python3.7/site-packages (from tensorboard<2.9,>=2.8->tensorflow) (0.6.1)\n",
      "Requirement already satisfied: tensorboard-plugin-wit>=1.6.0 in ./.local/lib/python3.7/site-packages (from tensorboard<2.9,>=2.8->tensorflow) (1.8.1)\n",
      "Requirement already satisfied: wheel>=0.26 in ./.local/lib/python3.7/site-packages (from tensorboard<2.9,>=2.8->tensorflow) (0.37.1)\n",
      "Requirement already satisfied: cached-property; python_version < \"3.8\" in ./.local/lib/python3.7/site-packages (from h5py>=2.9.0->tensorflow) (1.5.2)\n",
      "Requirement already satisfied: requests-oauthlib>=0.7.0 in ./.local/lib/python3.7/site-packages (from google-auth-oauthlib<0.5,>=0.4.1->tensorboard<2.9,>=2.8->tensorflow) (1.3.1)\n",
      "Requirement already satisfied: certifi>=2017.4.17 in /central/software/python/3.7.0/lib/python3.7/site-packages (from requests<3,>=2.21.0->tensorboard<2.9,>=2.8->tensorflow) (2018.11.29)\n",
      "Requirement already satisfied: idna<2.9,>=2.5 in /central/software/python/3.7.0/lib/python3.7/site-packages (from requests<3,>=2.21.0->tensorboard<2.9,>=2.8->tensorflow) (2.8)\n",
      "Requirement already satisfied: urllib3<1.25,>=1.21.1 in /central/software/python/3.7.0/lib/python3.7/site-packages (from requests<3,>=2.21.0->tensorboard<2.9,>=2.8->tensorflow) (1.24.1)\n",
      "Requirement already satisfied: chardet<3.1.0,>=3.0.2 in /central/software/python/3.7.0/lib/python3.7/site-packages (from requests<3,>=2.21.0->tensorboard<2.9,>=2.8->tensorflow) (3.0.4)\n",
      "Requirement already satisfied: pyasn1-modules>=0.2.1 in ./.local/lib/python3.7/site-packages (from google-auth<3,>=1.6.3->tensorboard<2.9,>=2.8->tensorflow) (0.2.8)\n",
      "Requirement already satisfied: cachetools<6.0,>=2.0.0 in ./.local/lib/python3.7/site-packages (from google-auth<3,>=1.6.3->tensorboard<2.9,>=2.8->tensorflow) (5.0.0)\n",
      "Requirement already satisfied: rsa<5,>=3.1.4; python_version >= \"3.6\" in ./.local/lib/python3.7/site-packages (from google-auth<3,>=1.6.3->tensorboard<2.9,>=2.8->tensorflow) (4.8)\n",
      "Requirement already satisfied: importlib-metadata>=4.4; python_version < \"3.10\" in ./.local/lib/python3.7/site-packages (from markdown>=2.6.8->tensorboard<2.9,>=2.8->tensorflow) (4.11.3)\n",
      "Requirement already satisfied: oauthlib>=3.0.0 in ./.local/lib/python3.7/site-packages (from requests-oauthlib>=0.7.0->google-auth-oauthlib<0.5,>=0.4.1->tensorboard<2.9,>=2.8->tensorflow) (3.2.0)\n",
      "Requirement already satisfied: pyasn1<0.5.0,>=0.4.6 in ./.local/lib/python3.7/site-packages (from pyasn1-modules>=0.2.1->google-auth<3,>=1.6.3->tensorboard<2.9,>=2.8->tensorflow) (0.4.8)\n",
      "Requirement already satisfied: zipp>=0.5 in /central/software/python/3.7.0/lib/python3.7/site-packages (from importlib-metadata>=4.4; python_version < \"3.10\"->markdown>=2.6.8->tensorboard<2.9,>=2.8->tensorflow) (0.6.0)\n",
      "Requirement already satisfied: more-itertools in /central/software/python/3.7.0/lib/python3.7/site-packages (from zipp>=0.5->importlib-metadata>=4.4; python_version < \"3.10\"->markdown>=2.6.8->tensorboard<2.9,>=2.8->tensorflow) (7.2.0)\n",
      "\u001b[33mWARNING: You are using pip version 20.1.1; however, version 22.0.4 is available.\n",
      "You should consider upgrading via the '/central/software/python/3.7.0/bin/python3.7 -m pip install --upgrade pip' command.\u001b[0m\n"
     ]
    }
   ],
   "source": [
    "!pip3 install opencv-python\n",
    "!pip3 install tensorflow"
   ]
  },
  {
   "cell_type": "code",
   "execution_count": 2,
   "metadata": {},
   "outputs": [],
   "source": [
    "import pandas as pd\n",
    "import numpy as np\n",
    "from numpy import asarray\n",
    "import PIL\n",
    "from PIL import Image\n",
    "\n",
    "import cv2\n",
    "\n",
    "import tensorflow as tf\n",
    "from tensorflow import keras\n",
    "from keras.models import Sequential\n",
    "from keras.layers import Flatten, Dense, Dropout, BatchNormalization, MaxPooling2D, Conv2D\n"
   ]
  },
  {
   "cell_type": "code",
   "execution_count": 3,
   "metadata": {},
   "outputs": [],
   "source": [
    "# Load data\n",
    "\n",
    "train = pd.read_csv('/groups/CS156b/data/student_labels/train.csv')\n",
    "\n",
    "test_ids = pd.read_csv('/groups/CS156b/data/student_labels/test_ids.csv')\n",
    "\n",
    "solution_ids = pd.read_csv('/groups/CS156b/data/student_labels/solution_ids.csv')"
   ]
  },
  {
   "cell_type": "code",
   "execution_count": 4,
   "metadata": {},
   "outputs": [],
   "source": [
    "# Use subset of the data for models\n",
    "\n",
    "# Total number of train and test points\n",
    "MAX_TRAIN = 178158\n",
    "MAX_TEST = 22596\n",
    "\n",
    "num_train = MAX_TRAIN\n",
    "num_test = MAX_TEST\n",
    "\n",
    "train_sub = train.sample(n=num_train)\n",
    "test_sub = test_ids.sample(n=num_test)\n",
    "solution_ids_sub = solution_ids.sample(n=num_test)"
   ]
  },
  {
   "cell_type": "code",
   "execution_count": null,
   "metadata": {},
   "outputs": [],
   "source": [
    "# Convert all training images into numpy arrays\n",
    "\n",
    "train_imgs = []\n",
    "init_path = '/groups/CS156b/data/'\n",
    "\n",
    "for i, row in train_sub.iterrows():\n",
    "    temp_img = Image.open(init_path + row['Path'])\n",
    "    train_imgs.append(asarray(temp_img))\n",
    "    \n",
    "    \n",
    "train_imgs = np.array(train_imgs)"
   ]
  },
  {
   "cell_type": "code",
   "execution_count": null,
   "metadata": {},
   "outputs": [],
   "source": [
    "test_imgs = []\n",
    "init_path = '/groups/CS156b/data/'\n",
    "\n",
    "test_img_ids = []\n",
    "\n",
    "for i, row in test_sub.iterrows():\n",
    "    temp_img = Image.open(init_path + row['Path'])\n",
    "    test_imgs.append(asarray(temp_img))\n",
    "    test_img_ids.append(row['Id'])\n",
    "    \n",
    "test_imgs = np.array(test_imgs)"
   ]
  },
  {
   "cell_type": "code",
   "execution_count": null,
   "metadata": {},
   "outputs": [],
   "source": [
    "solution_imgs = []\n",
    "init_path = '/groups/CS156b/data/'\n",
    "\n",
    "solution_img_ids = []\n",
    "\n",
    "for i, row in solution_ids_sub.iterrows():\n",
    "    temp_img = Image.open(init_path + row['Path'])\n",
    "    solution_imgs.append(asarray(temp_img))\n",
    "    solution_img_ids.append(row['Id'])\n",
    "    \n",
    "solution_imgs = np.array(solution_imgs)"
   ]
  },
  {
   "cell_type": "code",
   "execution_count": null,
   "metadata": {},
   "outputs": [],
   "source": [
    "print(train_imgs[0].shape)"
   ]
  },
  {
   "cell_type": "code",
   "execution_count": null,
   "metadata": {},
   "outputs": [],
   "source": [
    "img_large = Image.fromarray(train_imgs[0], 'L')"
   ]
  },
  {
   "cell_type": "code",
   "execution_count": null,
   "metadata": {},
   "outputs": [],
   "source": [
    "img_large"
   ]
  },
  {
   "cell_type": "code",
   "execution_count": null,
   "metadata": {},
   "outputs": [],
   "source": [
    "width = 100\n",
    "height = 100\n",
    "\n",
    "curr = cv2.resize(train_imgs[0], (width, height))\n",
    "\n",
    "print(curr.shape)\n",
    "print(curr)\n",
    "\n",
    "img = Image.fromarray(curr, 'L')"
   ]
  },
  {
   "cell_type": "code",
   "execution_count": null,
   "metadata": {},
   "outputs": [],
   "source": [
    "img"
   ]
  },
  {
   "cell_type": "code",
   "execution_count": null,
   "metadata": {},
   "outputs": [],
   "source": [
    "tensor_train = []\n",
    "tensor_test = []\n",
    "tensor_solution = []"
   ]
  },
  {
   "cell_type": "code",
   "execution_count": null,
   "metadata": {},
   "outputs": [],
   "source": [
    "for i in range(0, len(train_imgs)):\n",
    "    train_imgs[i] = cv2.resize(train_imgs[i], (width, height))\n",
    "    train_imgs[i] = train_imgs[i]/255\n",
    "    tensor_train.append(tf.convert_to_tensor(train_imgs[i], dtype=float))\n",
    "    \n",
    "for i in range(0, len(test_imgs)):\n",
    "    test_imgs[i] = cv2.resize(test_imgs[i], (width, height))\n",
    "    test_imgs[i] = test_imgs[i]/255\n",
    "    tensor_test.append(tf.convert_to_tensor(test_imgs[i], dtype=float))\n",
    "\n",
    "    \n",
    "for i in range(0, len(solution_imgs)):\n",
    "    solution_imgs[i] = cv2.resize(solution_imgs[i], (width, height))\n",
    "    solution_imgs[i] = solution_imgs[i]/255\n",
    "    tensor_solution.append(tf.convert_to_tensor(solution_imgs[i], dtype=float))\n"
   ]
  },
  {
   "cell_type": "code",
   "execution_count": null,
   "metadata": {},
   "outputs": [],
   "source": [
    "y_train = []\n",
    "for index, row in train_sub.iterrows():\n",
    "    temp2 = [row['No Finding'], row['Enlarged Cardiomediastinum'], row['Cardiomegaly'],\n",
    "            row['Lung Opacity'], row['Lung Lesion'], row['Edema'], row['Consolidation'],\n",
    "            row['Pneumonia'], row['Atelectasis'], row['Pneumothorax'], row['Pleural Effusion'], \n",
    "            row['Pleural Other'], row['Fracture'], row['Support Devices']]\n",
    "    i = 0 \n",
    "    for val in temp2: \n",
    "        if val != val: # Handles NaN's\n",
    "            temp2[i] = 0.0\n",
    "        i += 1\n",
    "    y_train.append(temp2)"
   ]
  },
  {
   "cell_type": "code",
   "execution_count": null,
   "metadata": {},
   "outputs": [],
   "source": [
    "X_train = train_imgs\n",
    "y_train = np.array(y_train)\n",
    "\n",
    "print(type(X_train[0][0]))"
   ]
  },
  {
   "cell_type": "code",
   "execution_count": null,
   "metadata": {},
   "outputs": [],
   "source": [
    "# setting training data to be a tensor of tensor-ed images\n",
    "# shape: n training images, shape width, shape height\n",
    "train_tensor_of_tensors = tf.convert_to_tensor(tensor_train)\n",
    "print(train_tensor_of_tensors.shape)"
   ]
  },
  {
   "cell_type": "code",
   "execution_count": null,
   "metadata": {},
   "outputs": [],
   "source": [
    "num_classes = 14\n",
    "\n",
    "model = Sequential()\n",
    "model.add(Conv2D(32, kernel_size=(3, 3), activation='relu', \n",
    "                 input_shape=[width, height, 1]))\n",
    "model.add(Conv2D(64, (3, 3), activation='relu'))\n",
    "model.add(MaxPooling2D(pool_size=(2, 2)))\n",
    "model.add(Flatten())\n",
    "model.add(Dense(128, activation='relu'))\n",
    "model.add(Dense(num_classes, activation='softmax'))\n",
    "\n",
    "model.compile(loss=keras.losses.categorical_crossentropy,\n",
    "              optimizer=keras.optimizers.Adadelta(),\n",
    "              metrics=['accuracy'])\n",
    "\n",
    "model.fit(train_tensor_of_tensors, y_train, epochs=10, verbose=0)"
   ]
  },
  {
   "cell_type": "code",
   "execution_count": null,
   "metadata": {},
   "outputs": [],
   "source": [
    "# setting testing data to be a tensor of tensor-ed images\n",
    "# shape: n training images, shape width, shape height\n",
    "test_tensor_of_tensors = tf.convert_to_tensor(tensor_test)\n",
    "\n",
    "preds = model.predict(test_tensor_of_tensors)\n",
    "\n",
    "preds = preds.tolist()\n",
    "\n",
    "result = []\n",
    "\n",
    "\n",
    "for i in range(len(tensor_test)):\n",
    "    img_id = test_img_ids[i]\n",
    "    preds[i].insert(0, img_id)\n"
   ]
  },
  {
   "cell_type": "code",
   "execution_count": null,
   "metadata": {},
   "outputs": [],
   "source": [
    "np.set_printoptions(suppress=True) # Stop ID's from being converted to scientific notation\n",
    "np.savetxt(\"test_sub.csv\", preds, delimiter=\",\", fmt='%f')"
   ]
  }
 ],
 "metadata": {
  "kernelspec": {
   "display_name": "Python 3",
   "language": "python",
   "name": "python3"
  },
  "language_info": {
   "codemirror_mode": {
    "name": "ipython",
    "version": 3
   },
   "file_extension": ".py",
   "mimetype": "text/x-python",
   "name": "python",
   "nbconvert_exporter": "python",
   "pygments_lexer": "ipython3",
   "version": "3.7.0"
  }
 },
 "nbformat": 4,
 "nbformat_minor": 2
}
