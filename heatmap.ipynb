{
 "cells": [
  {
   "cell_type": "code",
   "execution_count": 2,
   "metadata": {},
   "outputs": [
    {
     "name": "stdout",
     "output_type": "stream",
     "text": [
      "uploading data...\n",
      "train labels loaded:  178157\n",
      "y_train loaded:  178157 \n",
      "\n",
      "\n"
     ]
    }
   ],
   "source": [
    "!pip3 install seaborn\n",
    "\n",
    "import pandas as pd\n",
    "import numpy as np\n",
    "from numpy import asarray\n",
    "import PIL\n",
    "from PIL import Image\n",
    "\n",
    "import matplotlib.pyplot as plt\n",
    "import seaborn as sns\n",
    "\n",
    "width = 100\n",
    "height = 100           \n",
    "     \n",
    "label_names = [\"No Finding\",\"Enlarged Cardiomediastinum\",\"Cardiomegaly\",\n",
    "               \"Lung Opacity\",\"Lung Lesion\",\"Edema\",\"Consolidation\",\"Pneumonia\",\n",
    "               \"Atelectasis\",\"Pneumothorax\",\"Pleural Effusion\",\"Pleural Other\",\n",
    "               \"Fracture\",\"Support Devices\"]\n",
    "\n",
    "id_header = 'Id,No Finding,Enlarged Cardiomediastinum,Cardiomegaly,Lung Opacity,Lung Lesion,Edema,Consolidation,Pneumonia,Atelectasis,Pneumothorax,Pleural Effusion,Pleural Other,Fracture,Support Devices'\n",
    "\n",
    "ROOT_PATH = '/central/groups/CS156b/teams/clnsh/compressed_data/'\n",
    "\n",
    "print('uploading data...')\n",
    "\n",
    "train_label = pd.read_table(ROOT_PATH + 'train_labels', delimiter=\" \", \n",
    "              names=label_names)\n",
    "\n",
    "print('train labels loaded: ', len(train_label))\n",
    "\n",
    "y_train = []\n",
    "for index, row in train_label.iterrows():\n",
    "    temp2 = [row['No Finding'], row['Enlarged Cardiomediastinum'], row['Cardiomegaly'],\n",
    "            row['Lung Opacity'], row['Lung Lesion'], row['Edema'], row['Consolidation'],\n",
    "            row['Pneumonia'], row['Atelectasis'], row['Pneumothorax'], row['Pleural Effusion'], \n",
    "            row['Pleural Other'], row['Fracture'], row['Support Devices']]\n",
    "    i = 0 \n",
    "    for val in temp2: \n",
    "        if val != val: # Handles NaN's\n",
    "            temp2[i] = 0.0\n",
    "        i += 1\n",
    "    y_train.append(temp2)\n",
    "\n",
    "print('y_train loaded: ', len(y_train), '\\n\\n')\n",
    "\n",
    "y_train = np.array(y_train)"
   ]
  },
  {
   "cell_type": "code",
   "execution_count": 26,
   "metadata": {},
   "outputs": [
    {
     "name": "stdout",
     "output_type": "stream",
     "text": [
      "[[ 1.  0.  0.  0.  0.  0.  0.  0.  0. -1.  0.  0.  0.  1.]\n",
      " [-1.  0.  0.  1.  0.  0.  0.  0.  0.  0.  0.  0.  1.  0.]\n",
      " [-1.  0.  0.  1.  0.  0.  0.  0.  0.  0.  0.  0.  1.  0.]\n",
      " [-1.  0.  0.  1.  0.  0.  0.  0.  0.  0.  0.  0.  1.  0.]\n",
      " [-1.  0.  0.  0.  0.  1.  0.  0.  0. -1.  0.  0.  0.  0.]]\n",
      "   No Finding  Enlarged Cardiomediastinum  Cardiomegaly  Lung Opacity  \\\n",
      "0         1.0                         0.0           0.0           0.0   \n",
      "\n",
      "   Lung Lesion  Edema  Consolidation  Pneumonia  Atelectasis  Pneumothorax  \\\n",
      "0          0.0    0.0            0.0        0.0          0.0          -1.0   \n",
      "\n",
      "   Pleural Effusion  Pleural Other  Fracture  Support Devices  \n",
      "0               0.0            0.0       0.0              1.0  \n"
     ]
    }
   ],
   "source": [
    "print(y_train[0:5])\n",
    "print(train_label[0:1])"
   ]
  },
  {
   "cell_type": "code",
   "execution_count": 17,
   "metadata": {},
   "outputs": [
    {
     "data": {
      "image/png": "[encoded data removed]",
      "text/plain": [
       "<Figure size 432x288 with 2 Axes>"
      ]
     },
     "metadata": {
      "needs_background": "light"
     },
     "output_type": "display_data"
    }
   ],
   "source": [
    "ax = sns.heatmap(y_train, linewidth = 0.5 , cmap = 'coolwarm' )"
   ]
  },
  {
   "cell_type": "code",
   "execution_count": null,
   "metadata": {},
   "outputs": [],
   "source": []
  },
  {
   "cell_type": "code",
   "execution_count": null,
   "metadata": {},
   "outputs": [],
   "source": []
  }
 ],
 "metadata": {
  "kernelspec": {
   "display_name": "Python 3",
   "language": "python",
   "name": "python3"
  },
  "language_info": {
   "codemirror_mode": {
    "name": "ipython",
    "version": 3
   },
   "file_extension": ".py",
   "mimetype": "text/x-python",
   "name": "python",
   "nbconvert_exporter": "python",
   "pygments_lexer": "ipython3",
   "version": "3.7.0"
  }
 },
 "nbformat": 4,
 "nbformat_minor": 4
}
