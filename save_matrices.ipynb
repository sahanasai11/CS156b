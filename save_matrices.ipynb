{
 "cells": [
  {
   "cell_type": "code",
   "execution_count": null,
   "metadata": {},
   "outputs": [],
   "source": [
    "# This file downloads image data, converts images into matrices of pixels, scales down the image, and then saves the matrices\n",
    "# of images onto a file"
   ]
  },
  {
   "cell_type": "code",
   "execution_count": 1,
   "metadata": {},
   "outputs": [
    {
     "name": "stdout",
     "output_type": "stream",
     "text": [
      "Defaulting to user installation because normal site-packages is not writeable\n",
      "Requirement already satisfied: opencv-python in ./.local/lib/python3.7/site-packages (4.5.5.64)\n",
      "Requirement already satisfied: numpy>=1.14.5; python_version >= \"3.7\" in ./.local/lib/python3.7/site-packages (from opencv-python) (1.21.5)\n",
      "\u001b[33mWARNING: You are using pip version 20.1.1; however, version 22.0.4 is available.\n",
      "You should consider upgrading via the '/central/software/python/3.7.0/bin/python3.7 -m pip install --upgrade pip' command.\u001b[0m\n"
     ]
    }
   ],
   "source": [
    "!pip3 install opencv-python"
   ]
  },
  {
   "cell_type": "code",
   "execution_count": 2,
   "metadata": {},
   "outputs": [],
   "source": [
    "import pandas as pd\n",
    "import numpy as np\n",
    "from numpy import asarray\n",
    "import PIL\n",
    "from PIL import Image\n",
    "\n",
    "import cv2\n"
   ]
  },
  {
   "cell_type": "code",
   "execution_count": 3,
   "metadata": {},
   "outputs": [],
   "source": [
    "# Load data\n",
    "\n",
    "train = pd.read_csv('/groups/CS156b/data/student_labels/train.csv')\n",
    "\n",
    "test_ids = pd.read_csv('/groups/CS156b/data/student_labels/test_ids.csv')\n",
    "\n",
    "solution_ids = pd.read_csv('/groups/CS156b/data/student_labels/solution_ids.csv')"
   ]
  },
  {
   "cell_type": "code",
   "execution_count": 4,
   "metadata": {},
   "outputs": [],
   "source": [
    "# Use subset of the data for models\n",
    "\n",
    "# Total number of train and test points\n",
    "MAX_TRAIN = 178158\n",
    "MAX_TEST = 22596\n",
    "\n",
    "num_train = 178158\n",
    "num_test = 22596\n",
    "train_sub = train.sample(n=num_train)\n",
    "test_sub = test_ids.sample(n=num_test)\n",
    "solution_ids_sub = solution_ids.sample(n=num_test)"
   ]
  },
  {
   "cell_type": "code",
   "execution_count": 5,
   "metadata": {},
   "outputs": [],
   "source": [
    "train_imgs = []\n",
    "test_imgs = []\n",
    "solution_imgs = []\n",
    "width = 100\n",
    "height = 100"
   ]
  },
  {
   "cell_type": "code",
   "execution_count": 6,
   "metadata": {},
   "outputs": [
    {
     "name": "stdout",
     "output_type": "stream",
     "text": [
      "Train Images Done\n"
     ]
    }
   ],
   "source": [
    "# Convert all training images into numpy arrays\n",
    "\n",
    "init_path = '/groups/CS156b/data/'\n",
    "test = []\n",
    "for i, row in train_sub.iterrows():\n",
    "\n",
    "    try:\n",
    "        temp_img = asarray(Image.open(init_path + row['Path']))\n",
    "        temp_img = cv2.resize(temp_img, (width, height))\n",
    "        temp_img = temp_img/255\n",
    "        train_imgs.append(temp_img)\n",
    "        \n",
    "    except FileNotFoundError:\n",
    "        print(\"Image doesn't exist\")\n",
    "\n",
    "train_imgs = np.array(train_imgs)\n",
    "reshaped_train_imgs = train_imgs.reshape(train_imgs.shape[0], -1)\n",
    "\n",
    "print(\"Train Images Done\")\n",
    "\n",
    "# NOTE: train_imgs is reshaped to be a 2d list instead of a 3d list"
   ]
  },
  {
   "cell_type": "code",
   "execution_count": 7,
   "metadata": {},
   "outputs": [
    {
     "name": "stdout",
     "output_type": "stream",
     "text": [
      "Test Images Done\n"
     ]
    }
   ],
   "source": [
    "init_path = '/groups/CS156b/data/'\n",
    "\n",
    "test_img_ids = []\n",
    "\n",
    "for i, row in test_sub.iterrows():\n",
    "    try:\n",
    "        temp_img = asarray(Image.open(init_path + row['Path']))\n",
    "        temp_img = cv2.resize(temp_img, (width, height))\n",
    "        temp_img = temp_img/255\n",
    "        test_imgs.append(temp_img)\n",
    "        test_img_ids.append(row['Id'])\n",
    "    except FileNotFoundError:\n",
    "        print(\"Image doesn't exist\")\n",
    "\n",
    "test_imgs = np.array(test_imgs)\n",
    "reshaped_test_imgs = test_imgs.reshape(test_imgs.shape[0], -1)\n",
    "print(\"Test Images Done\")"
   ]
  },
  {
   "cell_type": "code",
   "execution_count": 8,
   "metadata": {},
   "outputs": [
    {
     "name": "stdout",
     "output_type": "stream",
     "text": [
      "Solution Images Done\n"
     ]
    }
   ],
   "source": [
    "init_path = '/groups/CS156b/data/'\n",
    "\n",
    "solution_img_ids = []\n",
    "\n",
    "for i, row in solution_ids_sub.iterrows():\n",
    "    try:\n",
    "        temp_img = asarray(Image.open(init_path + row['Path']))\n",
    "        temp_img = cv2.resize(temp_img, (width, height))\n",
    "        temp_img = temp_img/255\n",
    "        solution_imgs.append(temp_img)\n",
    "    except FileNotFoundError:\n",
    "        print(\"Image doesn't exist\")\n",
    "        \n",
    "        \n",
    "solution_imgs = np.array(solution_imgs)\n",
    "reshaped_solution_imgs = solution_imgs.reshape(train_imgs.shape[0], -1)\n",
    "print(\"Solution Images Done\")"
   ]
  },
  {
   "cell_type": "code",
   "execution_count": 9,
   "metadata": {},
   "outputs": [],
   "source": [
    "np.savetxt('train_matrices', reshaped_train_imgs)\n",
    "np.savetxt('test_matrices', reshaped_test_imgs)\n",
    "np.savetxt('solution_matrices', reshaped_solution_imgs)"
   ]
  },
  {
   "cell_type": "code",
   "execution_count": 15,
   "metadata": {},
   "outputs": [],
   "source": [
    "# To load these files and convert them back to a 3d list:\n",
    "# https://www.geeksforgeeks.org/how-to-load-and-save-3d-numpy-array-to-file-using-savetxt-and-loadtxt-functions/\n",
    "\n",
    "# train_loaded = np.loadtxt('train_matrices')\n",
    "# train_3d = train_loaded.reshape(num_train, (width*height) // width, width)\n",
    "\n",
    "# test_loaded = np.loadtxt('test_matrices')\n",
    "# test_3d = test_loaded.reshape(num_test, (width*height) // width, width)\n",
    "\n",
    "# solution_loaded = np.loadtxt('solution_matrices')\n",
    "# solution_3d = solution_loaded.reshape(num_test, (width*height) // width, width)"
   ]
  }
 ],
 "metadata": {
  "kernelspec": {
   "display_name": "Python 3",
   "language": "python",
   "name": "python3"
  },
  "language_info": {
   "codemirror_mode": {
    "name": "ipython",
    "version": 3
   },
   "file_extension": ".py",
   "mimetype": "text/x-python",
   "name": "python",
   "nbconvert_exporter": "python",
   "pygments_lexer": "ipython3",
   "version": "3.7.0"
  }
 },
 "nbformat": 4,
 "nbformat_minor": 2
}
