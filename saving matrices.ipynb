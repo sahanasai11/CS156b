{
 "cells": [
  {
   "cell_type": "code",
   "execution_count": 1,
   "metadata": {},
   "outputs": [
    {
     "name": "stdout",
     "output_type": "stream",
     "text": [
      "Defaulting to user installation because normal site-packages is not writeable\n",
      "Requirement already satisfied: opencv-python in ./.local/lib/python3.7/site-packages (4.5.5.64)\n",
      "Requirement already satisfied: numpy>=1.14.5; python_version >= \"3.7\" in ./.local/lib/python3.7/site-packages (from opencv-python) (1.21.5)\n",
      "\u001b[33mWARNING: You are using pip version 20.1.1; however, version 22.0.4 is available.\n",
      "You should consider upgrading via the '/central/software/python/3.7.0/bin/python3.7 -m pip install --upgrade pip' command.\u001b[0m\n"
     ]
    }
   ],
   "source": [
    "!pip3 install opencv-python"
   ]
  },
  {
   "cell_type": "code",
   "execution_count": 2,
   "metadata": {},
   "outputs": [],
   "source": [
    "import pandas as pd\n",
    "import numpy as np\n",
    "from numpy import asarray\n",
    "import PIL\n",
    "from PIL import Image\n",
    "\n",
    "import cv2\n"
   ]
  },
  {
   "cell_type": "code",
   "execution_count": 3,
   "metadata": {},
   "outputs": [],
   "source": [
    "# Load data\n",
    "\n",
    "train = pd.read_csv('/groups/CS156b/data/student_labels/train.csv')\n",
    "\n",
    "test_ids = pd.read_csv('/groups/CS156b/data/student_labels/test_ids.csv')\n",
    "\n",
    "solution_ids = pd.read_csv('/groups/CS156b/data/student_labels/solution_ids.csv')"
   ]
  },
  {
   "cell_type": "code",
   "execution_count": 4,
   "metadata": {},
   "outputs": [],
   "source": [
    "# Use subset of the data for models\n",
    "\n",
    "# Total number of train and test points\n",
    "MAX_TRAIN = 178158\n",
    "MAX_TEST = 22596\n",
    "\n",
    "num_train = 100\n",
    "num_test = 50\n",
    "train_sub = train.sample(n=num_train)\n",
    "test_sub = test_ids.sample(n=num_test)\n",
    "solution_ids_sub = solution_ids.sample(n=num_test)"
   ]
  },
  {
   "cell_type": "code",
   "execution_count": 5,
   "metadata": {},
   "outputs": [],
   "source": [
    "train_imgs = []\n",
    "test_imgs = []\n",
    "solution_imgs = []\n",
    "width = 100\n",
    "height = 100\n",
    "\n",
    "y_train = []"
   ]
  },
  {
   "cell_type": "code",
   "execution_count": 6,
   "metadata": {},
   "outputs": [
    {
     "name": "stdout",
     "output_type": "stream",
     "text": [
      "Train Images Done\n"
     ]
    }
   ],
   "source": [
    "# Convert all training images into numpy arrays\n",
    "\n",
    "init_path = '/groups/CS156b/data/'\n",
    "c=0\n",
    "\n",
    "for i, row in train_sub.iterrows():\n",
    "#     c+=1\n",
    "#     if c % 100 == 0:\n",
    "#         print(c/num_train)\n",
    "    try:\n",
    "        temp_img = asarray(Image.open(init_path + row['Path']))\n",
    "        temp_img = cv2.resize(temp_img, (width, height))\n",
    "        temp_img = temp_img/255\n",
    "        train_imgs.append(str(temp_img))\n",
    "    except FileNotFoundError:\n",
    "        print(\"Image doesn't exist\")\n",
    "\n",
    "train_imgs = np.array(train_imgs)\n",
    "print(\"Train Images Done\")"
   ]
  },
  {
   "cell_type": "code",
   "execution_count": 7,
   "metadata": {},
   "outputs": [
    {
     "name": "stdout",
     "output_type": "stream",
     "text": [
      "Test Images Done\n"
     ]
    }
   ],
   "source": [
    "init_path = '/groups/CS156b/data/'\n",
    "\n",
    "test_img_ids = []\n",
    "\n",
    "for i, row in test_sub.iterrows():\n",
    "    try:\n",
    "        temp_img = asarray(Image.open(init_path + row['Path']))\n",
    "        temp_img = cv2.resize(temp_img, (width, height))\n",
    "        temp_img = temp_img/255\n",
    "        test_imgs.append(str(temp_img))\n",
    "        test_img_ids.append(row['Id'])\n",
    "    except FileNotFoundError:\n",
    "        print(\"Image doesn't exist\")\n",
    "\n",
    "test_imgs = np.array(test_imgs)\n",
    "print(\"Test Images Done\")"
   ]
  },
  {
   "cell_type": "code",
   "execution_count": 8,
   "metadata": {},
   "outputs": [
    {
     "name": "stdout",
     "output_type": "stream",
     "text": [
      "Solution Images Done\n"
     ]
    }
   ],
   "source": [
    "init_path = '/groups/CS156b/data/'\n",
    "\n",
    "solution_img_ids = []\n",
    "\n",
    "for i, row in solution_ids_sub.iterrows():\n",
    "    try:\n",
    "        temp_img = asarray(Image.open(init_path + row['Path']))\n",
    "        temp_img = cv2.resize(temp_img, (width, height))\n",
    "        temp_img = temp_img/255\n",
    "        solution_imgs.append(str(temp_img))\n",
    "        solution_img_ids.append(row['Id'])\n",
    "    except FileNotFoundError:\n",
    "        print(\"Image doesn't exist\")\n",
    "        \n",
    "        \n",
    "solution_imgs = np.array(solution_imgs)\n",
    "print(\"Solution Images Done\")"
   ]
  },
  {
   "cell_type": "code",
   "execution_count": 9,
   "metadata": {},
   "outputs": [],
   "source": [
    "train_df = pd.DataFrame(train_imgs, columns=['Pixel Matrix'])\n",
    "test_df = pd.DataFrame(test_imgs, columns=['Pixel Matrix'])\n",
    "solution_df = pd.DataFrame(solution_imgs, columns=['Pixel Matrix'])\n",
    "\n",
    "train_df.to_csv('train_pixels')\n",
    "test_df.to_csv('train_pixels')\n",
    "solution_df.to_csv('train_pixels')"
   ]
  },
  {
   "cell_type": "code",
   "execution_count": 11,
   "metadata": {},
   "outputs": [],
   "source": [
    "np.savetxt('train_pixels', train_imgs, delimiter = \",\", fmt='%s')\n",
    "np.savetxt('test_pixels', train_imgs, delimiter = \",\", fmt='%s')\n",
    "np.savetxt('solution_pixels', train_imgs, delimiter = \",\", fmt='%s')"
   ]
  }
 ],
 "metadata": {
  "kernelspec": {
   "display_name": "Python 3",
   "language": "python",
   "name": "python3"
  },
  "language_info": {
   "codemirror_mode": {
    "name": "ipython",
    "version": 3
   },
   "file_extension": ".py",
   "mimetype": "text/x-python",
   "name": "python",
   "nbconvert_exporter": "python",
   "pygments_lexer": "ipython3",
   "version": "3.7.0"
  }
 },
 "nbformat": 4,
 "nbformat_minor": 2
}
